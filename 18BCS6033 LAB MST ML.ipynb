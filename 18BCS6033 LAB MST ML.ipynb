{
 "cells": [
  {
   "cell_type": "markdown",
   "metadata": {},
   "source": [
    "# LAB MST\n",
    "\n",
    "## Karan Trehan\n",
    "### 18BCS6033\n",
    "### 18AITAIML1 - Group B"
   ]
  },
  {
   "cell_type": "code",
   "execution_count": 1,
   "metadata": {},
   "outputs": [],
   "source": [
    "# Supress Warnings\n",
    "import warnings\n",
    "warnings.filterwarnings('ignore')"
   ]
  },
  {
   "cell_type": "markdown",
   "metadata": {},
   "source": [
    "## Importing the Required Libraries"
   ]
  },
  {
   "cell_type": "code",
   "execution_count": 2,
   "metadata": {},
   "outputs": [],
   "source": [
    "#For Data Handling\n",
    "import numpy as np\n",
    "import pandas as pd\n",
    "\n",
    "#For Data Visualization/Exploratory Analysis\n",
    "from matplotlib import pyplot as plt\n",
    "import seaborn as sns\n",
    "\n",
    "#For Statistical Calculations\n",
    "import scipy.stats as st\n",
    "\n",
    "#For Regression\n",
    "from sklearn.preprocessing import MinMaxScaler\n",
    "from sklearn.model_selection import train_test_split\n",
    "import statsmodels.api as sm\n",
    "from sklearn.linear_model import LinearRegression\n",
    "from sklearn.tree import DecisionTreeRegressor\n",
    "\n",
    "sns.set_palette('bright')\n",
    "sns.set(color_codes=True)\n",
    "%matplotlib inline"
   ]
  },
  {
   "cell_type": "markdown",
   "metadata": {},
   "source": [
    "## Reading and Understanding the Data\n",
    "Let's start with the following steps:\n",
    "\n",
    "1. Importing data using the pandas library\n",
    "2. Understanding the structure of the data"
   ]
  },
  {
   "cell_type": "code",
   "execution_count": 3,
   "metadata": {},
   "outputs": [],
   "source": [
    "#Reading the Dataset\n",
    "df = pd.read_csv(\"B1.csv\")"
   ]
  },
  {
   "cell_type": "code",
   "execution_count": 4,
   "metadata": {},
   "outputs": [
    {
     "data": {
      "text/html": [
       "<div>\n",
       "<style scoped>\n",
       "    .dataframe tbody tr th:only-of-type {\n",
       "        vertical-align: middle;\n",
       "    }\n",
       "\n",
       "    .dataframe tbody tr th {\n",
       "        vertical-align: top;\n",
       "    }\n",
       "\n",
       "    .dataframe thead th {\n",
       "        text-align: right;\n",
       "    }\n",
       "</style>\n",
       "<table border=\"1\" class=\"dataframe\">\n",
       "  <thead>\n",
       "    <tr style=\"text-align: right;\">\n",
       "      <th></th>\n",
       "      <th>number of claims</th>\n",
       "      <th>total payment for all the claims in thousands of Swedish Kronor</th>\n",
       "    </tr>\n",
       "  </thead>\n",
       "  <tbody>\n",
       "    <tr>\n",
       "      <td>0</td>\n",
       "      <td>108</td>\n",
       "      <td>392.5</td>\n",
       "    </tr>\n",
       "    <tr>\n",
       "      <td>1</td>\n",
       "      <td>19</td>\n",
       "      <td>46.2</td>\n",
       "    </tr>\n",
       "    <tr>\n",
       "      <td>2</td>\n",
       "      <td>13</td>\n",
       "      <td>15.7</td>\n",
       "    </tr>\n",
       "    <tr>\n",
       "      <td>3</td>\n",
       "      <td>124</td>\n",
       "      <td>422.2</td>\n",
       "    </tr>\n",
       "    <tr>\n",
       "      <td>4</td>\n",
       "      <td>40</td>\n",
       "      <td>119.4</td>\n",
       "    </tr>\n",
       "    <tr>\n",
       "      <td>5</td>\n",
       "      <td>57</td>\n",
       "      <td>170.9</td>\n",
       "    </tr>\n",
       "    <tr>\n",
       "      <td>6</td>\n",
       "      <td>23</td>\n",
       "      <td>56.9</td>\n",
       "    </tr>\n",
       "    <tr>\n",
       "      <td>7</td>\n",
       "      <td>14</td>\n",
       "      <td>77.5</td>\n",
       "    </tr>\n",
       "    <tr>\n",
       "      <td>8</td>\n",
       "      <td>45</td>\n",
       "      <td>214.0</td>\n",
       "    </tr>\n",
       "    <tr>\n",
       "      <td>9</td>\n",
       "      <td>10</td>\n",
       "      <td>65.3</td>\n",
       "    </tr>\n",
       "  </tbody>\n",
       "</table>\n",
       "</div>"
      ],
      "text/plain": [
       "    number of claims  \\\n",
       "0                108   \n",
       "1                 19   \n",
       "2                 13   \n",
       "3                124   \n",
       "4                 40   \n",
       "5                 57   \n",
       "6                 23   \n",
       "7                 14   \n",
       "8                 45   \n",
       "9                 10   \n",
       "\n",
       "   total payment for all the claims in thousands of Swedish Kronor  \n",
       "0                                              392.5                \n",
       "1                                               46.2                \n",
       "2                                               15.7                \n",
       "3                                              422.2                \n",
       "4                                              119.4                \n",
       "5                                              170.9                \n",
       "6                                               56.9                \n",
       "7                                               77.5                \n",
       "8                                              214.0                \n",
       "9                                               65.3                "
      ]
     },
     "execution_count": 4,
     "metadata": {},
     "output_type": "execute_result"
    }
   ],
   "source": [
    "#Checking the first 10 rows\n",
    "df.head(10)"
   ]
  },
  {
   "cell_type": "code",
   "execution_count": 5,
   "metadata": {},
   "outputs": [
    {
     "name": "stdout",
     "output_type": "stream",
     "text": [
      "<class 'pandas.core.frame.DataFrame'>\n",
      "RangeIndex: 63 entries, 0 to 62\n",
      "Data columns (total 2 columns):\n",
      " number of claims                                                  63 non-null int64\n",
      "total payment for all the claims in thousands of Swedish Kronor    63 non-null float64\n",
      "dtypes: float64(1), int64(1)\n",
      "memory usage: 1.1 KB\n"
     ]
    }
   ],
   "source": [
    "#Checking information about the Dataset\n",
    "df.info()"
   ]
  },
  {
   "cell_type": "code",
   "execution_count": 6,
   "metadata": {},
   "outputs": [],
   "source": [
    "#Renaming the Columns\n",
    "new_columns = ['noOfClaims' , 'totalPayment']\n",
    "df.columns = new_columns"
   ]
  },
  {
   "cell_type": "markdown",
   "metadata": {},
   "source": [
    "Since there are two columns and both have 63 non-null values, Hence there are no, missing values."
   ]
  },
  {
   "cell_type": "code",
   "execution_count": 7,
   "metadata": {},
   "outputs": [
    {
     "data": {
      "text/html": [
       "<div>\n",
       "<style scoped>\n",
       "    .dataframe tbody tr th:only-of-type {\n",
       "        vertical-align: middle;\n",
       "    }\n",
       "\n",
       "    .dataframe tbody tr th {\n",
       "        vertical-align: top;\n",
       "    }\n",
       "\n",
       "    .dataframe thead th {\n",
       "        text-align: right;\n",
       "    }\n",
       "</style>\n",
       "<table border=\"1\" class=\"dataframe\">\n",
       "  <thead>\n",
       "    <tr style=\"text-align: right;\">\n",
       "      <th></th>\n",
       "      <th>noOfClaims</th>\n",
       "      <th>totalPayment</th>\n",
       "    </tr>\n",
       "  </thead>\n",
       "  <tbody>\n",
       "    <tr>\n",
       "      <td>count</td>\n",
       "      <td>63.000000</td>\n",
       "      <td>63.000000</td>\n",
       "    </tr>\n",
       "    <tr>\n",
       "      <td>mean</td>\n",
       "      <td>22.904762</td>\n",
       "      <td>98.187302</td>\n",
       "    </tr>\n",
       "    <tr>\n",
       "      <td>std</td>\n",
       "      <td>23.351946</td>\n",
       "      <td>87.327553</td>\n",
       "    </tr>\n",
       "    <tr>\n",
       "      <td>min</td>\n",
       "      <td>0.000000</td>\n",
       "      <td>0.000000</td>\n",
       "    </tr>\n",
       "    <tr>\n",
       "      <td>25%</td>\n",
       "      <td>7.500000</td>\n",
       "      <td>38.850000</td>\n",
       "    </tr>\n",
       "    <tr>\n",
       "      <td>50%</td>\n",
       "      <td>14.000000</td>\n",
       "      <td>73.400000</td>\n",
       "    </tr>\n",
       "    <tr>\n",
       "      <td>75%</td>\n",
       "      <td>29.000000</td>\n",
       "      <td>140.000000</td>\n",
       "    </tr>\n",
       "    <tr>\n",
       "      <td>max</td>\n",
       "      <td>124.000000</td>\n",
       "      <td>422.200000</td>\n",
       "    </tr>\n",
       "  </tbody>\n",
       "</table>\n",
       "</div>"
      ],
      "text/plain": [
       "       noOfClaims  totalPayment\n",
       "count   63.000000     63.000000\n",
       "mean    22.904762     98.187302\n",
       "std     23.351946     87.327553\n",
       "min      0.000000      0.000000\n",
       "25%      7.500000     38.850000\n",
       "50%     14.000000     73.400000\n",
       "75%     29.000000    140.000000\n",
       "max    124.000000    422.200000"
      ]
     },
     "execution_count": 7,
     "metadata": {},
     "output_type": "execute_result"
    }
   ],
   "source": [
    "#Viewing the Statistical Measures/Details of the Dataset\n",
    "df.describe()"
   ]
  },
  {
   "cell_type": "markdown",
   "metadata": {},
   "source": [
    "After a Soft Analysis, we can see that `noOfClaims` and `totalPayment` have outliers which need to be treated"
   ]
  },
  {
   "cell_type": "markdown",
   "metadata": {},
   "source": [
    "## Checking for Missing and Duplicated Values"
   ]
  },
  {
   "cell_type": "code",
   "execution_count": 8,
   "metadata": {},
   "outputs": [
    {
     "name": "stdout",
     "output_type": "stream",
     "text": [
      "Number of Duplicate Rows in the DataFrame: 0\n"
     ]
    }
   ],
   "source": [
    "#Checking for duplicacy in the DataFrame using '.duplicated()' method and then checking the number of rows using\n",
    "# '.shape[0]'\n",
    "print(\"Number of Duplicate Rows in the DataFrame:\" , df[df.duplicated()].shape[0])"
   ]
  },
  {
   "cell_type": "code",
   "execution_count": 9,
   "metadata": {},
   "outputs": [
    {
     "name": "stdout",
     "output_type": "stream",
     "text": [
      "-+--+--+--+--+--+--+--+--+--+-\n",
      "noOfClaims      0.0\n",
      "totalPayment    0.0\n",
      "dtype: float64\n",
      "-+--+--+--+--+--+--+--+--+--+-\n"
     ]
    }
   ],
   "source": [
    "#Checking the Percentage of Columns having Missing Values in both the DataFrames\n",
    "print('-+-'*10)\n",
    "print(round(df.isnull().sum()/len(df)*100,2))\n",
    "print('-+-'*10)"
   ]
  },
  {
   "cell_type": "markdown",
   "metadata": {},
   "source": [
    "* Explicitly checking the Missing Value Count.\n",
    "* Inferring again that there are no Missing Values"
   ]
  },
  {
   "cell_type": "markdown",
   "metadata": {},
   "source": [
    "# Data Visualization"
   ]
  },
  {
   "cell_type": "markdown",
   "metadata": {},
   "source": [
    "## Univariate Analysis"
   ]
  },
  {
   "cell_type": "code",
   "execution_count": 10,
   "metadata": {},
   "outputs": [
    {
     "data": {
      "image/png": "[encoded data removed]",
      "text/plain": [
       "<Figure size 1080x360 with 2 Axes>"
      ]
     },
     "metadata": {
      "needs_background": "light"
     },
     "output_type": "display_data"
    }
   ],
   "source": [
    "#Peforming the Univariate Analysis - Distribution Plot\n",
    "fig, axs = plt.subplots(1,2, figsize = (15, 5))\n",
    "fig.subplots_adjust(top=0.8)\n",
    "\n",
    "sns.distplot(df['noOfClaims'],ax=axs[0],color='#BA00FF',kde_kws=dict(linewidth=4),hist=True)\n",
    "axs[0].set_xlabel('noOfClaims', fontsize = 'large')\n",
    "\n",
    "sns.distplot(df['totalPayment'],ax=axs[1],color='orange',kde_kws=dict(linewidth=4),hist=True)\n",
    "axs[1].set_xlabel('totalPayment', fontsize = 'large')\n",
    "\n",
    "plt.show()"
   ]
  },
  {
   "cell_type": "markdown",
   "metadata": {},
   "source": [
    "Both the Columns are skewed"
   ]
  },
  {
   "cell_type": "code",
   "execution_count": 11,
   "metadata": {},
   "outputs": [
    {
     "data": {
      "image/png": "[encoded data removed]",
      "text/plain": [
       "<Figure size 1080x360 with 2 Axes>"
      ]
     },
     "metadata": {
      "needs_background": "light"
     },
     "output_type": "display_data"
    }
   ],
   "source": [
    "#Peforming the Univariate Analysis - BoxPlot\n",
    "fig, axs = plt.subplots(1,2, figsize = (15, 5))\n",
    "fig.subplots_adjust(top=0.8)\n",
    "\n",
    "sns.boxplot(df['noOfClaims'] , ax = axs[0], color= '#3BFF00',linewidth=2)\n",
    "axs[0].set_xlabel('noOfClaims', fontsize = 'large')\n",
    "\n",
    "sns.boxplot(df['totalPayment'] , ax=axs[1], color='#FF6050', linewidth=2)\n",
    "axs[1].set_xlabel('totalPayment', fontsize = 'large')\n",
    "\n",
    "plt.show()"
   ]
  },
  {
   "cell_type": "markdown",
   "metadata": {},
   "source": [
    "* We can infer that both the columns consist of Outliers that need to be treated.\n",
    "* Presence of Skewness"
   ]
  },
  {
   "cell_type": "markdown",
   "metadata": {},
   "source": [
    "## Bi-Variate Analysis"
   ]
  },
  {
   "cell_type": "code",
   "execution_count": 12,
   "metadata": {},
   "outputs": [
    {
     "data": {
      "image/png": "[encoded data removed]",
      "text/plain": [
       "<Figure size 432x288 with 1 Axes>"
      ]
     },
     "metadata": {
      "needs_background": "light"
     },
     "output_type": "display_data"
    }
   ],
   "source": [
    "#Peforming the Bivariate Analysis - ScatterPlot\n",
    "\n",
    "plt.scatter(df['noOfClaims'], df['totalPayment'], color = 'b')\n",
    "plt.xlabel('noOfClaims', fontsize = 'large')\n",
    "plt.ylabel('totalPayment', fontsize = 'large')\n",
    "\n",
    "plt.show()"
   ]
  },
  {
   "cell_type": "markdown",
   "metadata": {},
   "source": [
    "* Presence of Outliers can be seen.\n",
    "* Data is following a linear relationship"
   ]
  },
  {
   "cell_type": "markdown",
   "metadata": {},
   "source": [
    "## Performing Outlier Analysis and Removal"
   ]
  },
  {
   "cell_type": "code",
   "execution_count": 13,
   "metadata": {},
   "outputs": [
    {
     "name": "stdout",
     "output_type": "stream",
     "text": [
      "noOfClaims       21.50\n",
      "totalPayment    101.15\n",
      "dtype: float64\n"
     ]
    }
   ],
   "source": [
    "#Calculating Inter Quartile Range, we can infer the presence of outliers statistically\n",
    "q1 = df.quantile(0.25)\n",
    "q3 = df.quantile(0.75)\n",
    "IQR = q3 - q1\n",
    "print(IQR)"
   ]
  },
  {
   "cell_type": "code",
   "execution_count": 14,
   "metadata": {},
   "outputs": [
    {
     "name": "stdout",
     "output_type": "stream",
     "text": [
      "(63, 2)\n",
      "(61, 2)\n"
     ]
    }
   ],
   "source": [
    "#Dropping the Outliers\n",
    "print(df.shape)\n",
    "df = df[~((df < (q1 - 1.5 * IQR)) |(df > (q3 + 1.5 * IQR))).any(axis=1)]\n",
    "print(df.shape)"
   ]
  },
  {
   "cell_type": "code",
   "execution_count": 15,
   "metadata": {},
   "outputs": [
    {
     "data": {
      "text/plain": [
       "1     19\n",
       "2     13\n",
       "4     40\n",
       "5     57\n",
       "6     23\n",
       "      ..\n",
       "58     9\n",
       "59    31\n",
       "60    14\n",
       "61    53\n",
       "62    26\n",
       "Name: noOfClaims, Length: 61, dtype: int64"
      ]
     },
     "execution_count": 15,
     "metadata": {},
     "output_type": "execute_result"
    }
   ],
   "source": [
    "df['noOfClaims']"
   ]
  },
  {
   "cell_type": "code",
   "execution_count": 16,
   "metadata": {},
   "outputs": [
    {
     "data": {
      "image/png": "[encoded data removed]",
      "text/plain": [
       "<Figure size 1080x360 with 2 Axes>"
      ]
     },
     "metadata": {
      "needs_background": "light"
     },
     "output_type": "display_data"
    }
   ],
   "source": [
    "#Peforming the Univariate Analysis - BoxPlot\n",
    "fig, axs = plt.subplots(1,2, figsize = (15, 5))\n",
    "fig.subplots_adjust(top=0.8)\n",
    "\n",
    "sns.boxplot(df['noOfClaims'] , ax = axs[0], color= '#3BFF00',linewidth=2)\n",
    "axs[0].set_xlabel('noOfClaims', fontsize = 'large')\n",
    "\n",
    "sns.boxplot(df['totalPayment'] , ax=axs[1], color='#FF6050', linewidth=2)\n",
    "axs[1].set_xlabel('totalPayment', fontsize = 'large')\n",
    "\n",
    "plt.show()"
   ]
  },
  {
   "cell_type": "markdown",
   "metadata": {},
   "source": [
    "## Performing Transformation of Variables to remove Skewness"
   ]
  },
  {
   "cell_type": "code",
   "execution_count": 17,
   "metadata": {},
   "outputs": [
    {
     "data": {
      "text/plain": [
       "noOfClaims      1.080648\n",
       "totalPayment    0.775697\n",
       "dtype: float64"
      ]
     },
     "execution_count": 17,
     "metadata": {},
     "output_type": "execute_result"
    }
   ],
   "source": [
    "df.skew()"
   ]
  },
  {
   "cell_type": "code",
   "execution_count": 18,
   "metadata": {},
   "outputs": [
    {
     "name": "stdout",
     "output_type": "stream",
     "text": [
      "Right Skewed :\n",
      "  ['noOfClaims', 'totalPayment'] \n",
      "\n",
      "Left  Skewed :\n",
      "  []\n"
     ]
    }
   ],
   "source": [
    "#Creating two lists for columns which are Right Skewednand Left Skewed\n",
    "right_skewed=[]\n",
    "left_skewed=[]\n",
    "\n",
    "#Column Names of Columns having Skewness greater than 0.5 are placed in the right_skewed list and vice versa for left_skewed\n",
    "for i in df.columns:\n",
    "    if st.skew(df[i])>0.5:\n",
    "        right_skewed.append(i)\n",
    "    elif st.skew(df[i])<-0.5:\n",
    "        left_skewed.append(i)\n",
    "\n",
    "#Printing the Lists\n",
    "print('Right Skewed :\\n ', right_skewed,'\\n\\nLeft  Skewed :\\n ',left_skewed)"
   ]
  },
  {
   "cell_type": "markdown",
   "metadata": {},
   "source": [
    "* Both the columns are skewed towards the right"
   ]
  },
  {
   "cell_type": "code",
   "execution_count": 19,
   "metadata": {},
   "outputs": [],
   "source": [
    "#If the columns in the right_skewed list have minimum value 0, then they undergo Square-Root Transformation\n",
    "#Else the columns undergo Logarithmic Transformation\n",
    "for i in right_skewed:\n",
    "    if (min(df[i]) == 0):\n",
    "        df[i]= np.sqrt((df[i]))\n",
    "    else:\n",
    "        df[i]= np.log((df[i]))"
   ]
  },
  {
   "cell_type": "code",
   "execution_count": 20,
   "metadata": {},
   "outputs": [
    {
     "data": {
      "image/png": "[encoded data removed]",
      "text/plain": [
       "<Figure size 1080x360 with 2 Axes>"
      ]
     },
     "metadata": {
      "needs_background": "light"
     },
     "output_type": "display_data"
    }
   ],
   "source": [
    "#Peforming the Univariate Analysis - Distribution Plot\n",
    "fig, axs = plt.subplots(1,2, figsize = (15, 5))\n",
    "fig.subplots_adjust(top=0.8)\n",
    "\n",
    "sns.distplot(df['noOfClaims'],ax=axs[0],color='#BA00FF',kde_kws=dict(linewidth=4),hist=True)\n",
    "axs[0].set_xlabel('noOfClaims', fontsize = 'large')\n",
    "\n",
    "sns.distplot(df['totalPayment'],ax=axs[1],color='orange',kde_kws=dict(linewidth=4),hist=True)\n",
    "axs[1].set_xlabel('totalPayment', fontsize = 'large')\n",
    "\n",
    "plt.show()"
   ]
  },
  {
   "cell_type": "markdown",
   "metadata": {},
   "source": [
    "* We can see that the skewness has been rectified.\n",
    "* Both the plots are normally distributed"
   ]
  },
  {
   "cell_type": "code",
   "execution_count": 21,
   "metadata": {},
   "outputs": [
    {
     "data": {
      "text/html": [
       "<div>\n",
       "<style scoped>\n",
       "    .dataframe tbody tr th:only-of-type {\n",
       "        vertical-align: middle;\n",
       "    }\n",
       "\n",
       "    .dataframe tbody tr th {\n",
       "        vertical-align: top;\n",
       "    }\n",
       "\n",
       "    .dataframe thead th {\n",
       "        text-align: right;\n",
       "    }\n",
       "</style>\n",
       "<table border=\"1\" class=\"dataframe\">\n",
       "  <thead>\n",
       "    <tr style=\"text-align: right;\">\n",
       "      <th></th>\n",
       "      <th>noOfClaims</th>\n",
       "      <th>totalPayment</th>\n",
       "    </tr>\n",
       "  </thead>\n",
       "  <tbody>\n",
       "    <tr>\n",
       "      <td>count</td>\n",
       "      <td>61.000000</td>\n",
       "      <td>61.000000</td>\n",
       "    </tr>\n",
       "    <tr>\n",
       "      <td>mean</td>\n",
       "      <td>4.081519</td>\n",
       "      <td>8.603733</td>\n",
       "    </tr>\n",
       "    <tr>\n",
       "      <td>std</td>\n",
       "      <td>1.801912</td>\n",
       "      <td>3.776291</td>\n",
       "    </tr>\n",
       "    <tr>\n",
       "      <td>min</td>\n",
       "      <td>0.000000</td>\n",
       "      <td>0.000000</td>\n",
       "    </tr>\n",
       "    <tr>\n",
       "      <td>25%</td>\n",
       "      <td>2.645751</td>\n",
       "      <td>6.172520</td>\n",
       "    </tr>\n",
       "    <tr>\n",
       "      <td>50%</td>\n",
       "      <td>3.741657</td>\n",
       "      <td>8.318654</td>\n",
       "    </tr>\n",
       "    <tr>\n",
       "      <td>75%</td>\n",
       "      <td>5.196152</td>\n",
       "      <td>11.614646</td>\n",
       "    </tr>\n",
       "    <tr>\n",
       "      <td>max</td>\n",
       "      <td>7.810250</td>\n",
       "      <td>15.751190</td>\n",
       "    </tr>\n",
       "  </tbody>\n",
       "</table>\n",
       "</div>"
      ],
      "text/plain": [
       "       noOfClaims  totalPayment\n",
       "count   61.000000     61.000000\n",
       "mean     4.081519      8.603733\n",
       "std      1.801912      3.776291\n",
       "min      0.000000      0.000000\n",
       "25%      2.645751      6.172520\n",
       "50%      3.741657      8.318654\n",
       "75%      5.196152     11.614646\n",
       "max      7.810250     15.751190"
      ]
     },
     "execution_count": 21,
     "metadata": {},
     "output_type": "execute_result"
    }
   ],
   "source": [
    "#Checking the stats to observe any change\n",
    "df.describe()"
   ]
  },
  {
   "cell_type": "markdown",
   "metadata": {},
   "source": [
    "Now the Statistics Look Normal. "
   ]
  },
  {
   "cell_type": "markdown",
   "metadata": {},
   "source": [
    "## Splitting the Dataset into Train and Test Datasets"
   ]
  },
  {
   "cell_type": "code",
   "execution_count": 22,
   "metadata": {},
   "outputs": [],
   "source": [
    "# y = df.pop('totalPayment')\n",
    "# X = df\n",
    "df_train, df_test = train_test_split(df, train_size = 0.7, test_size = 0.3, random_state = 100)"
   ]
  },
  {
   "cell_type": "markdown",
   "metadata": {},
   "source": [
    "## Scaling the Features"
   ]
  },
  {
   "cell_type": "code",
   "execution_count": 23,
   "metadata": {},
   "outputs": [],
   "source": [
    "#Scaling the Features between 0 - 1, for easier and efficient performance by the Model\n",
    "scaler = MinMaxScaler()\n",
    "num_vars = df.columns\n",
    "df_train[num_vars] = scaler.fit_transform(df_train[num_vars])\n",
    "df_test[num_vars] = scaler.fit_transform(df_test[num_vars])"
   ]
  },
  {
   "cell_type": "code",
   "execution_count": 24,
   "metadata": {},
   "outputs": [],
   "source": [
    "y_train = df_train.pop('totalPayment')\n",
    "X_train = df_train\n",
    "y_test = df_test.pop('totalPayment')\n",
    "X_test = df_test"
   ]
  },
  {
   "cell_type": "code",
   "execution_count": 25,
   "metadata": {},
   "outputs": [
    {
     "data": {
      "text/html": [
       "<div>\n",
       "<style scoped>\n",
       "    .dataframe tbody tr th:only-of-type {\n",
       "        vertical-align: middle;\n",
       "    }\n",
       "\n",
       "    .dataframe tbody tr th {\n",
       "        vertical-align: top;\n",
       "    }\n",
       "\n",
       "    .dataframe thead th {\n",
       "        text-align: right;\n",
       "    }\n",
       "</style>\n",
       "<table border=\"1\" class=\"dataframe\">\n",
       "  <thead>\n",
       "    <tr style=\"text-align: right;\">\n",
       "      <th></th>\n",
       "      <th>noOfClaims</th>\n",
       "    </tr>\n",
       "  </thead>\n",
       "  <tbody>\n",
       "    <tr>\n",
       "      <td>40</td>\n",
       "      <td>0.342609</td>\n",
       "    </tr>\n",
       "    <tr>\n",
       "      <td>44</td>\n",
       "      <td>0.938391</td>\n",
       "    </tr>\n",
       "    <tr>\n",
       "      <td>28</td>\n",
       "      <td>0.192547</td>\n",
       "    </tr>\n",
       "    <tr>\n",
       "      <td>56</td>\n",
       "      <td>0.635239</td>\n",
       "    </tr>\n",
       "    <tr>\n",
       "      <td>49</td>\n",
       "      <td>0.049693</td>\n",
       "    </tr>\n",
       "  </tbody>\n",
       "</table>\n",
       "</div>"
      ],
      "text/plain": [
       "    noOfClaims\n",
       "40    0.342609\n",
       "44    0.938391\n",
       "28    0.192547\n",
       "56    0.635239\n",
       "49    0.049693"
      ]
     },
     "execution_count": 25,
     "metadata": {},
     "output_type": "execute_result"
    }
   ],
   "source": [
    "X_train.head()"
   ]
  },
  {
   "cell_type": "code",
   "execution_count": 26,
   "metadata": {},
   "outputs": [
    {
     "data": {
      "text/plain": [
       "40    0.540807\n",
       "44    0.780872\n",
       "28    0.233230\n",
       "56    0.867810\n",
       "49    0.309005\n",
       "Name: totalPayment, dtype: float64"
      ]
     },
     "execution_count": 26,
     "metadata": {},
     "output_type": "execute_result"
    }
   ],
   "source": [
    "y_train.head()"
   ]
  },
  {
   "cell_type": "markdown",
   "metadata": {},
   "source": [
    "## Model-1 Using Ordinary Least Square Linear Model"
   ]
  },
  {
   "cell_type": "code",
   "execution_count": 27,
   "metadata": {},
   "outputs": [
    {
     "name": "stdout",
     "output_type": "stream",
     "text": [
      "                            OLS Regression Results                            \n",
      "==============================================================================\n",
      "Dep. Variable:           totalPayment   R-squared:                       0.746\n",
      "Model:                            OLS   Adj. R-squared:                  0.740\n",
      "Method:                 Least Squares   F-statistic:                     117.8\n",
      "Date:                Thu, 29 Oct 2020   Prob (F-statistic):           1.73e-13\n",
      "Time:                        12:37:40   Log-Likelihood:                 23.882\n",
      "No. Observations:                  42   AIC:                            -43.76\n",
      "Df Residuals:                      40   BIC:                            -40.29\n",
      "Df Model:                           1                                         \n",
      "Covariance Type:            nonrobust                                         \n",
      "==============================================================================\n",
      "                 coef    std err          t      P>|t|      [0.025      0.975]\n",
      "------------------------------------------------------------------------------\n",
      "const          0.1190      0.039      3.045      0.004       0.040       0.198\n",
      "noOfClaims     0.8116      0.075     10.852      0.000       0.660       0.963\n",
      "==============================================================================\n",
      "Omnibus:                        4.161   Durbin-Watson:                   1.752\n",
      "Prob(Omnibus):                  0.125   Jarque-Bera (JB):                1.762\n",
      "Skew:                          -0.002   Prob(JB):                        0.414\n",
      "Kurtosis:                       1.997   Cond. No.                         4.15\n",
      "==============================================================================\n",
      "\n",
      "Warnings:\n",
      "[1] Standard Errors assume that the covariance matrix of the errors is correctly specified.\n"
     ]
    }
   ],
   "source": [
    "# Adding a constant manually because OLS otherwise fits the line through the origin\n",
    "X_train_lm = sm.add_constant(X_train[list(X_train.columns)])\n",
    "\n",
    "# Create a first fitted model\n",
    "lr = sm.OLS(y_train, X_train_lm).fit()\n",
    "\n",
    "#Viewing Summary\n",
    "print(lr.summary())"
   ]
  },
  {
   "cell_type": "code",
   "execution_count": 28,
   "metadata": {},
   "outputs": [],
   "source": [
    "#Creating a function for Error Terms Distribution Plot\n",
    "def errorTermsPlot(y,y_hat,color,typ,xlabel):\n",
    "    # Plot the histogram of the error terms\n",
    "    fig = plt.figure()\n",
    "    sns.distplot(((y) - y_hat), bins = 20,color=color,kde_kws=dict(linewidth=4))\n",
    "    fig.suptitle('Error Terms for ' + typ + ' Data' , fontsize = 15)                  # Plot heading \n",
    "    plt.xlabel(xlabel, fontsize = 12)"
   ]
  },
  {
   "cell_type": "code",
   "execution_count": 29,
   "metadata": {},
   "outputs": [
    {
     "data": {
      "image/png": "[encoded data removed]",
      "text/plain": [
       "<Figure size 432x288 with 1 Axes>"
      ]
     },
     "metadata": {
      "needs_background": "light"
     },
     "output_type": "display_data"
    }
   ],
   "source": [
    "#Predicting y_train based on X_train_lm\n",
    "y_train_pred = lr.predict(X_train_lm)\n",
    "\n",
    "#Plotting the Graph\n",
    "errorTermsPlot(y_train,y_train_pred,'r','Training','Errors')"
   ]
  },
  {
   "cell_type": "code",
   "execution_count": 30,
   "metadata": {},
   "outputs": [],
   "source": [
    "# Creating X_test_new dataframe by dropping variables from X_test\n",
    "X_test_new = X_test[X_train.columns.values]\n",
    "\n",
    "# Adding a constant variable \n",
    "X_test_new = sm.add_constant(X_test_new)\n",
    "\n",
    "# Making predictions\n",
    "y_pred = lr.predict(X_test_new)"
   ]
  },
  {
   "cell_type": "code",
   "execution_count": 31,
   "metadata": {},
   "outputs": [],
   "source": [
    "#Creating a function for y_test vs y_pred Plot\n",
    "def yTest_vs_yPredPlot(y,y_hat,color):\n",
    "    # Plotting y_test and y_pred to understand the spread.\n",
    "    fig = plt.figure()\n",
    "    plt.scatter(y,y_hat,color=color)\n",
    "    fig.suptitle('y_test v/s y_pred', fontsize=15)            # Plot heading \n",
    "    plt.xlabel('y_test', fontsize=12)                          # X-label\n",
    "    plt.ylabel('y_pred', fontsize=12)  "
   ]
  },
  {
   "cell_type": "code",
   "execution_count": 32,
   "metadata": {},
   "outputs": [
    {
     "data": {
      "image/png": "[encoded data removed]",
      "text/plain": [
       "<Figure size 432x288 with 1 Axes>"
      ]
     },
     "metadata": {
      "needs_background": "light"
     },
     "output_type": "display_data"
    }
   ],
   "source": [
    "#Plotting y_test vs y_pred for Model 1\n",
    "yTest_vs_yPredPlot(y_test,y_pred,'k')"
   ]
  },
  {
   "cell_type": "code",
   "execution_count": 33,
   "metadata": {},
   "outputs": [
    {
     "data": {
      "image/png": "[encoded data removed]",
      "text/plain": [
       "<Figure size 432x288 with 1 Axes>"
      ]
     },
     "metadata": {
      "needs_background": "light"
     },
     "output_type": "display_data"
    }
   ],
   "source": [
    "#Plotting the Graph for Test Errors\n",
    "errorTermsPlot(y_pred,y_test,'#EFBE01','Testing','y_pred-y_test')"
   ]
  },
  {
   "cell_type": "markdown",
   "metadata": {},
   "source": [
    "## Model-2 Using Linear Regression Model from scikit-learn"
   ]
  },
  {
   "cell_type": "code",
   "execution_count": 34,
   "metadata": {},
   "outputs": [
    {
     "data": {
      "text/plain": [
       "LinearRegression(copy_X=True, fit_intercept=True, n_jobs=None, normalize=False)"
      ]
     },
     "execution_count": 34,
     "metadata": {},
     "output_type": "execute_result"
    }
   ],
   "source": [
    "# initialize the linear regression model\n",
    "lModel = LinearRegression()\n",
    "\n",
    "# fitting the model on X_train and y_train\n",
    "lModel.fit(X_train,y_train)"
   ]
  },
  {
   "cell_type": "code",
   "execution_count": 35,
   "metadata": {},
   "outputs": [
    {
     "data": {
      "image/png": "[encoded data removed]",
      "text/plain": [
       "<Figure size 432x288 with 1 Axes>"
      ]
     },
     "metadata": {
      "needs_background": "light"
     },
     "output_type": "display_data"
    }
   ],
   "source": [
    "#Predicting y_train based on X_train_lm\n",
    "y_train_pred2 = lModel.predict(X_train)\n",
    "\n",
    "#Plotting the Graph\n",
    "errorTermsPlot(y_train,y_train_pred2,'r','Training','Errors')"
   ]
  },
  {
   "cell_type": "code",
   "execution_count": 36,
   "metadata": {},
   "outputs": [],
   "source": [
    "# Making predictions\n",
    "y_pred2 = lModel.predict(X_test)"
   ]
  },
  {
   "cell_type": "code",
   "execution_count": 37,
   "metadata": {},
   "outputs": [
    {
     "data": {
      "image/png": "[encoded data removed]",
      "text/plain": [
       "<Figure size 432x288 with 1 Axes>"
      ]
     },
     "metadata": {
      "needs_background": "light"
     },
     "output_type": "display_data"
    }
   ],
   "source": [
    "#Plotting y_test vs y_pred for Model 1\n",
    "yTest_vs_yPredPlot(y_test,y_pred2,'k')"
   ]
  },
  {
   "cell_type": "code",
   "execution_count": 38,
   "metadata": {},
   "outputs": [
    {
     "data": {
      "image/png": "[encoded data removed]",
      "text/plain": [
       "<Figure size 432x288 with 1 Axes>"
      ]
     },
     "metadata": {
      "needs_background": "light"
     },
     "output_type": "display_data"
    }
   ],
   "source": [
    "#Plotting the Graph for Test Errors\n",
    "errorTermsPlot(y_pred2,y_test,'#EFBE01','Testing','y_pred-y_test')"
   ]
  },
  {
   "cell_type": "markdown",
   "metadata": {},
   "source": [
    "## Model-3 Using Decision Tree Regressor Model from scikit-learn"
   ]
  },
  {
   "cell_type": "code",
   "execution_count": 39,
   "metadata": {},
   "outputs": [
    {
     "data": {
      "text/plain": [
       "DecisionTreeRegressor(criterion='mse', max_depth=5, max_features=None,\n",
       "                      max_leaf_nodes=None, min_impurity_decrease=0.0,\n",
       "                      min_impurity_split=None, min_samples_leaf=1,\n",
       "                      min_samples_split=2, min_weight_fraction_leaf=0.0,\n",
       "                      presort=False, random_state=None, splitter='best')"
      ]
     },
     "execution_count": 39,
     "metadata": {},
     "output_type": "execute_result"
    }
   ],
   "source": [
    "# defining a decision tree model with a depth of 5. You can further tune the hyperparameters to improve the score\n",
    "dt_reg = DecisionTreeRegressor(max_depth=5)\n",
    "\n",
    "dt_reg.fit(X_train, y_train)"
   ]
  },
  {
   "cell_type": "code",
   "execution_count": 40,
   "metadata": {},
   "outputs": [
    {
     "data": {
      "image/png": "[encoded data removed]",
      "text/plain": [
       "<Figure size 432x288 with 1 Axes>"
      ]
     },
     "metadata": {
      "needs_background": "light"
     },
     "output_type": "display_data"
    }
   ],
   "source": [
    "#Predicting y_train based on X_train_lm\n",
    "y_train_pred3 = dt_reg.predict(X_train)\n",
    "\n",
    "#Plotting the Graph\n",
    "errorTermsPlot(y_train,y_train_pred3,'r','Training','Errors')"
   ]
  },
  {
   "cell_type": "code",
   "execution_count": 41,
   "metadata": {},
   "outputs": [],
   "source": [
    "# Making predictions\n",
    "y_pred3 = dt_reg.predict(X_test)"
   ]
  },
  {
   "cell_type": "code",
   "execution_count": 42,
   "metadata": {},
   "outputs": [
    {
     "data": {
      "image/png": "[encoded data removed]",
      "text/plain": [
       "<Figure size 432x288 with 1 Axes>"
      ]
     },
     "metadata": {
      "needs_background": "light"
     },
     "output_type": "display_data"
    }
   ],
   "source": [
    "#Plotting y_test vs y_pred for Model 1\n",
    "yTest_vs_yPredPlot(y_test,y_pred3,'k')"
   ]
  },
  {
   "cell_type": "code",
   "execution_count": 43,
   "metadata": {},
   "outputs": [
    {
     "data": {
      "image/png": "[encoded data removed]",
      "text/plain": [
       "<Figure size 432x288 with 1 Axes>"
      ]
     },
     "metadata": {
      "needs_background": "light"
     },
     "output_type": "display_data"
    }
   ],
   "source": [
    "#Plotting the Graph for Test Errors\n",
    "errorTermsPlot(y_pred3,y_test,'#EFBE01','Testing','y_pred-y_test')"
   ]
  },
  {
   "cell_type": "markdown",
   "metadata": {},
   "source": [
    "## Selecting the Best Model by checking Error Metrics of all the Data Models"
   ]
  },
  {
   "cell_type": "code",
   "execution_count": 44,
   "metadata": {},
   "outputs": [],
   "source": [
    "#Defining the Funtion 'errorMetrics' which will Calculate various paramets(Squared error, Mean Squared error,\n",
    "#Root Mean Squared error and R-Squared Value)\n",
    "def errorMetrics(y_pred,y):\n",
    "    error = y_pred - y\n",
    "\n",
    "    SE = np.square(error) # squared errors\n",
    "    MSE = np.mean(SE) # mean squared errors\n",
    "    RMSE = np.sqrt(MSE) # Root Mean Squared Error, RMSE\n",
    "    Rsquared = 1.0 - (np.var(error) / np.var(y))\n",
    "    print('Squared Error',round(sum(SE),3) ,\n",
    "          '\\nMean Squared Error' , round(MSE,3),\n",
    "          '\\nRoot Mean Squared Error' , round(RMSE,3),\n",
    "          '\\nR Squared' , round(Rsquared,3),'\\n\\n')\n",
    "    return Rsquared"
   ]
  },
  {
   "cell_type": "code",
   "execution_count": 45,
   "metadata": {},
   "outputs": [
    {
     "name": "stdout",
     "output_type": "stream",
     "text": [
      "****************************************\n",
      "---------Train Error of Model 1 --------\n",
      "Squared Error 0.789 \n",
      "Mean Squared Error 0.019 \n",
      "Root Mean Squared Error 0.137 \n",
      "R Squared 0.746 \n",
      "\n",
      "\n",
      "****************************************\n",
      "---------Test Error of Model 1 ---------\n",
      "Squared Error 0.315 \n",
      "Mean Squared Error 0.017 \n",
      "Root Mean Squared Error 0.129 \n",
      "R Squared 0.759 \n",
      "\n",
      "\n",
      "****************************************\n",
      "---------Train Error of Model 2 --------\n",
      "Squared Error 0.789 \n",
      "Mean Squared Error 0.019 \n",
      "Root Mean Squared Error 0.137 \n",
      "R Squared 0.746 \n",
      "\n",
      "\n",
      "****************************************\n",
      "---------Test Error of Model 2 ---------\n",
      "Squared Error 0.315 \n",
      "Mean Squared Error 0.017 \n",
      "Root Mean Squared Error 0.129 \n",
      "R Squared 0.759 \n",
      "\n",
      "\n",
      "****************************************\n",
      "---------Train Error of Model 3 --------\n",
      "Squared Error 0.409 \n",
      "Mean Squared Error 0.01 \n",
      "Root Mean Squared Error 0.099 \n",
      "R Squared 0.869 \n",
      "\n",
      "\n",
      "****************************************\n",
      "---------Test Error of Model 3 ---------\n",
      "Squared Error 0.599 \n",
      "Mean Squared Error 0.032 \n",
      "Root Mean Squared Error 0.178 \n",
      "R Squared 0.624 \n",
      "\n",
      "\n",
      "****************************************\n"
     ]
    },
    {
     "data": {
      "text/html": [
       "<div>\n",
       "<style scoped>\n",
       "    .dataframe tbody tr th:only-of-type {\n",
       "        vertical-align: middle;\n",
       "    }\n",
       "\n",
       "    .dataframe tbody tr th {\n",
       "        vertical-align: top;\n",
       "    }\n",
       "\n",
       "    .dataframe thead th {\n",
       "        text-align: right;\n",
       "    }\n",
       "</style>\n",
       "<table border=\"1\" class=\"dataframe\">\n",
       "  <thead>\n",
       "    <tr style=\"text-align: right;\">\n",
       "      <th></th>\n",
       "      <th>Train R2</th>\n",
       "      <th>Test R2</th>\n",
       "    </tr>\n",
       "  </thead>\n",
       "  <tbody>\n",
       "    <tr>\n",
       "      <td>OLS Model</td>\n",
       "      <td>0.746459</td>\n",
       "      <td>0.758646</td>\n",
       "    </tr>\n",
       "    <tr>\n",
       "      <td>Linear Regression Model</td>\n",
       "      <td>0.746459</td>\n",
       "      <td>0.758646</td>\n",
       "    </tr>\n",
       "    <tr>\n",
       "      <td>Decision Tree Regressor Model</td>\n",
       "      <td>0.868630</td>\n",
       "      <td>0.623743</td>\n",
       "    </tr>\n",
       "  </tbody>\n",
       "</table>\n",
       "</div>"
      ],
      "text/plain": [
       "                               Train R2   Test R2\n",
       "OLS Model                      0.746459  0.758646\n",
       "Linear Regression Model        0.746459  0.758646\n",
       "Decision Tree Regressor Model  0.868630  0.623743"
      ]
     },
     "execution_count": 45,
     "metadata": {},
     "output_type": "execute_result"
    }
   ],
   "source": [
    "#Passing the pred_variables to the function\n",
    "pred_variables=[[y_train_pred,y_train],\n",
    "                [y_pred,y_test],\n",
    "                [y_train_pred2,y_train],\n",
    "                [y_pred2,y_test],\n",
    "                [y_train_pred3,y_train],\n",
    "                [y_pred3,y_test]]\n",
    "\n",
    "#Creating a Dictionary from which we will create a Dataframe later on\n",
    "d = {'Train R2':[],'Test R2':[]}\n",
    "j=1\n",
    "\n",
    "for i in pred_variables:\n",
    "    print('*'*40)\n",
    "    if(j%2==0):\n",
    "        print('---------Test Error of Model',int(j/2),'---------')\n",
    "    else:\n",
    "        print('---------Train Error of Model',int(j-(j/2)+1),'--------')\n",
    "    \n",
    "    #Calculating R2 value and appending them to Test R2 and Train R2 respectively\n",
    "    r = errorMetrics(i[0],i[1])\n",
    "    if(j%2==0):\n",
    "        d['Test R2'].append(r)\n",
    "    else:\n",
    "        d['Train R2'].append(r)\n",
    "    j+=1\n",
    "print('*'*40)\n",
    "\n",
    "#Creating a DataFrame from the above dictionary\n",
    "models = pd.DataFrame(d,index=['OLS Model','Linear Regression Model' , 'Decision Tree Regressor Model' ])\n",
    "models"
   ]
  },
  {
   "cell_type": "code",
   "execution_count": 46,
   "metadata": {},
   "outputs": [
    {
     "data": {
      "text/plain": [
       "<matplotlib.axes._subplots.AxesSubplot at 0x1f6ea6ec0c8>"
      ]
     },
     "execution_count": 46,
     "metadata": {},
     "output_type": "execute_result"
    },
    {
     "data": {
      "image/png": "[encoded data removed]",
      "text/plain": [
       "<Figure size 432x288 with 1 Axes>"
      ]
     },
     "metadata": {
      "needs_background": "light"
     },
     "output_type": "display_data"
    }
   ],
   "source": [
    "#Plotting the Bar Graph for all the Variables in the DataFrame 'models'\n",
    "models.plot(kind='barh')"
   ]
  },
  {
   "cell_type": "markdown",
   "metadata": {},
   "source": [
    "#### We can finally observe that:\n",
    "#### 1. Decision Tree Regressor Model performs highly on Training Dataset but very poorly on testing Dataset\n",
    "#### 2. Linear Regression Model performs fairly.\n",
    "#### 3. OLS Model performs best on both the datasets.\n",
    "\n",
    "#### So I will choose OLS Model"
   ]
  },
  {
   "cell_type": "code",
   "execution_count": 47,
   "metadata": {},
   "outputs": [
    {
     "name": "stdout",
     "output_type": "stream",
     "text": [
      "const    *     0.119    +    noOfClaims    *     0.812    +    \n"
     ]
    }
   ],
   "source": [
    "#Creating Equation for OLS Model\n",
    "l = np.around(np.array(lr.params.values),3)\n",
    "s=''\n",
    "for i in zip(lr.params.index,l):\n",
    "    s += str(i[0]) + '    *     ' + str(i[1]) + '    +    '\n",
    "print(s)"
   ]
  },
  {
   "cell_type": "markdown",
   "metadata": {},
   "source": [
    "### Final Equation\n",
    "\n",
    "`total payment` = `const`  *  0.119 + `noOfClaims`  *  0.812"
   ]
  },
  {
   "cell_type": "markdown",
   "metadata": {},
   "source": [
    "###### Thank You!"
   ]
  },
  {
   "cell_type": "code",
   "execution_count": null,
   "metadata": {},
   "outputs": [],
   "source": []
  }
 ],
 "metadata": {
  "kernelspec": {
   "display_name": "Python 3",
   "language": "python",
   "name": "python3"
  },
  "language_info": {
   "codemirror_mode": {
    "name": "ipython",
    "version": 3
   },
   "file_extension": ".py",
   "mimetype": "text/x-python",
   "name": "python",
   "nbconvert_exporter": "python",
   "pygments_lexer": "ipython3",
   "version": "3.8.3"
  }
 },
 "nbformat": 4,
 "nbformat_minor": 2
}
